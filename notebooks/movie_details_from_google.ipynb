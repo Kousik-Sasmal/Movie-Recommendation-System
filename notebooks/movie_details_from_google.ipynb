{
 "cells": [
  {
   "cell_type": "code",
   "execution_count": 1,
   "id": "3bec1771-fbdb-4ac4-9cab-c84925507794",
   "metadata": {},
   "outputs": [],
   "source": [
    "import numpy as np \n",
    "import pandas as pd "
   ]
  },
  {
   "cell_type": "code",
   "execution_count": 2,
   "id": "b9826ad5-048a-4a6a-99f7-f350046fb63e",
   "metadata": {},
   "outputs": [
    {
     "data": {
      "text/plain": [
       "'/home/kousik/ABC_OTHERS/campusx/movie-recommender-system-tmdb-dataset/movie_recommender/notebooks'"
      ]
     },
     "execution_count": 2,
     "metadata": {},
     "output_type": "execute_result"
    }
   ],
   "source": [
    "import os\n",
    "os.getcwd()"
   ]
  },
  {
   "cell_type": "code",
   "execution_count": 3,
   "id": "a302f70a-b5ba-412a-b9ea-0480053d9615",
   "metadata": {},
   "outputs": [
    {
     "data": {
      "text/html": [
       "<div>\n",
       "<style scoped>\n",
       "    .dataframe tbody tr th:only-of-type {\n",
       "        vertical-align: middle;\n",
       "    }\n",
       "\n",
       "    .dataframe tbody tr th {\n",
       "        vertical-align: top;\n",
       "    }\n",
       "\n",
       "    .dataframe thead th {\n",
       "        text-align: right;\n",
       "    }\n",
       "</style>\n",
       "<table border=\"1\" class=\"dataframe\">\n",
       "  <thead>\n",
       "    <tr style=\"text-align: right;\">\n",
       "      <th></th>\n",
       "      <th>movie_id</th>\n",
       "      <th>title</th>\n",
       "      <th>release_date</th>\n",
       "    </tr>\n",
       "  </thead>\n",
       "  <tbody>\n",
       "    <tr>\n",
       "      <th>0</th>\n",
       "      <td>19995</td>\n",
       "      <td>Avatar</td>\n",
       "      <td>2009-12-10</td>\n",
       "    </tr>\n",
       "    <tr>\n",
       "      <th>1</th>\n",
       "      <td>285</td>\n",
       "      <td>Pirates of the Caribbean: At World's End</td>\n",
       "      <td>2007-05-19</td>\n",
       "    </tr>\n",
       "    <tr>\n",
       "      <th>2</th>\n",
       "      <td>206647</td>\n",
       "      <td>Spectre</td>\n",
       "      <td>2015-10-26</td>\n",
       "    </tr>\n",
       "    <tr>\n",
       "      <th>3</th>\n",
       "      <td>49026</td>\n",
       "      <td>The Dark Knight Rises</td>\n",
       "      <td>2012-07-16</td>\n",
       "    </tr>\n",
       "    <tr>\n",
       "      <th>4</th>\n",
       "      <td>49529</td>\n",
       "      <td>John Carter</td>\n",
       "      <td>2012-03-07</td>\n",
       "    </tr>\n",
       "    <tr>\n",
       "      <th>...</th>\n",
       "      <td>...</td>\n",
       "      <td>...</td>\n",
       "      <td>...</td>\n",
       "    </tr>\n",
       "    <tr>\n",
       "      <th>4798</th>\n",
       "      <td>9367</td>\n",
       "      <td>El Mariachi</td>\n",
       "      <td>1992-09-04</td>\n",
       "    </tr>\n",
       "    <tr>\n",
       "      <th>4799</th>\n",
       "      <td>72766</td>\n",
       "      <td>Newlyweds</td>\n",
       "      <td>2011-12-26</td>\n",
       "    </tr>\n",
       "    <tr>\n",
       "      <th>4800</th>\n",
       "      <td>231617</td>\n",
       "      <td>Signed, Sealed, Delivered</td>\n",
       "      <td>2013-10-13</td>\n",
       "    </tr>\n",
       "    <tr>\n",
       "      <th>4801</th>\n",
       "      <td>126186</td>\n",
       "      <td>Shanghai Calling</td>\n",
       "      <td>2012-05-03</td>\n",
       "    </tr>\n",
       "    <tr>\n",
       "      <th>4802</th>\n",
       "      <td>25975</td>\n",
       "      <td>My Date with Drew</td>\n",
       "      <td>2005-08-05</td>\n",
       "    </tr>\n",
       "  </tbody>\n",
       "</table>\n",
       "<p>4803 rows × 3 columns</p>\n",
       "</div>"
      ],
      "text/plain": [
       "      movie_id                                     title release_date\n",
       "0        19995                                    Avatar   2009-12-10\n",
       "1          285  Pirates of the Caribbean: At World's End   2007-05-19\n",
       "2       206647                                   Spectre   2015-10-26\n",
       "3        49026                     The Dark Knight Rises   2012-07-16\n",
       "4        49529                               John Carter   2012-03-07\n",
       "...        ...                                       ...          ...\n",
       "4798      9367                               El Mariachi   1992-09-04\n",
       "4799     72766                                 Newlyweds   2011-12-26\n",
       "4800    231617                 Signed, Sealed, Delivered   2013-10-13\n",
       "4801    126186                          Shanghai Calling   2012-05-03\n",
       "4802     25975                         My Date with Drew   2005-08-05\n",
       "\n",
       "[4803 rows x 3 columns]"
      ]
     },
     "execution_count": 3,
     "metadata": {},
     "output_type": "execute_result"
    }
   ],
   "source": [
    "google_movie = pd.read_csv('../artifacts/google_movie.csv')\n",
    "google_movie"
   ]
  },
  {
   "cell_type": "code",
   "execution_count": 4,
   "id": "1fd0848a-9ac6-4296-a4d7-288d3516448d",
   "metadata": {},
   "outputs": [
    {
     "data": {
      "text/plain": [
       "movie_id        0\n",
       "title           0\n",
       "release_date    1\n",
       "dtype: int64"
      ]
     },
     "execution_count": 4,
     "metadata": {},
     "output_type": "execute_result"
    }
   ],
   "source": [
    "google_movie.isnull().sum()"
   ]
  },
  {
   "cell_type": "code",
   "execution_count": 5,
   "id": "9677c86d-b967-42b1-aa76-5e165a225bc9",
   "metadata": {},
   "outputs": [
    {
     "data": {
      "text/html": [
       "<div>\n",
       "<style scoped>\n",
       "    .dataframe tbody tr th:only-of-type {\n",
       "        vertical-align: middle;\n",
       "    }\n",
       "\n",
       "    .dataframe tbody tr th {\n",
       "        vertical-align: top;\n",
       "    }\n",
       "\n",
       "    .dataframe thead th {\n",
       "        text-align: right;\n",
       "    }\n",
       "</style>\n",
       "<table border=\"1\" class=\"dataframe\">\n",
       "  <thead>\n",
       "    <tr style=\"text-align: right;\">\n",
       "      <th></th>\n",
       "      <th>movie_id</th>\n",
       "      <th>title</th>\n",
       "      <th>release_date</th>\n",
       "    </tr>\n",
       "  </thead>\n",
       "  <tbody>\n",
       "    <tr>\n",
       "      <th>4553</th>\n",
       "      <td>380097</td>\n",
       "      <td>America Is Still the Place</td>\n",
       "      <td>NaN</td>\n",
       "    </tr>\n",
       "  </tbody>\n",
       "</table>\n",
       "</div>"
      ],
      "text/plain": [
       "      movie_id                       title release_date\n",
       "4553    380097  America Is Still the Place          NaN"
      ]
     },
     "execution_count": 5,
     "metadata": {},
     "output_type": "execute_result"
    }
   ],
   "source": [
    "google_movie[google_movie['release_date'].isnull()]"
   ]
  },
  {
   "cell_type": "code",
   "execution_count": 6,
   "id": "9359a54c-691e-4d3e-ad84-9b5c62767836",
   "metadata": {},
   "outputs": [
    {
     "data": {
      "text/plain": [
       "True"
      ]
     },
     "execution_count": 6,
     "metadata": {},
     "output_type": "execute_result"
    }
   ],
   "source": [
    "np.isnan(google_movie.iloc[4553]['release_date'])"
   ]
  },
  {
   "cell_type": "code",
   "execution_count": 7,
   "id": "8eb91a4d-573d-4227-a7b1-70bdcb77e424",
   "metadata": {},
   "outputs": [
    {
     "name": "stdout",
     "output_type": "stream",
     "text": [
      "<class 'pandas.core.frame.DataFrame'>\n",
      "RangeIndex: 4803 entries, 0 to 4802\n",
      "Data columns (total 3 columns):\n",
      " #   Column        Non-Null Count  Dtype \n",
      "---  ------        --------------  ----- \n",
      " 0   movie_id      4803 non-null   int64 \n",
      " 1   title         4803 non-null   object\n",
      " 2   release_date  4802 non-null   object\n",
      "dtypes: int64(1), object(2)\n",
      "memory usage: 112.7+ KB\n"
     ]
    }
   ],
   "source": [
    "google_movie.info()"
   ]
  },
  {
   "cell_type": "code",
   "execution_count": 8,
   "id": "daa55316-46f8-40c8-b299-6ace1a51d7c0",
   "metadata": {},
   "outputs": [],
   "source": [
    "google_movie['release_date'] = pd.to_datetime(google_movie['release_date'])"
   ]
  },
  {
   "cell_type": "code",
   "execution_count": 9,
   "id": "852139ba-6dd0-4149-a165-5a13ebe603d5",
   "metadata": {},
   "outputs": [],
   "source": [
    "google_movie['year'] = google_movie['release_date'].dt.year"
   ]
  },
  {
   "cell_type": "code",
   "execution_count": 10,
   "id": "da8bae58-9e27-4e00-81d0-f8fda806d190",
   "metadata": {},
   "outputs": [
    {
     "data": {
      "text/html": [
       "<div>\n",
       "<style scoped>\n",
       "    .dataframe tbody tr th:only-of-type {\n",
       "        vertical-align: middle;\n",
       "    }\n",
       "\n",
       "    .dataframe tbody tr th {\n",
       "        vertical-align: top;\n",
       "    }\n",
       "\n",
       "    .dataframe thead th {\n",
       "        text-align: right;\n",
       "    }\n",
       "</style>\n",
       "<table border=\"1\" class=\"dataframe\">\n",
       "  <thead>\n",
       "    <tr style=\"text-align: right;\">\n",
       "      <th></th>\n",
       "      <th>movie_id</th>\n",
       "      <th>title</th>\n",
       "      <th>release_date</th>\n",
       "      <th>year</th>\n",
       "    </tr>\n",
       "  </thead>\n",
       "  <tbody>\n",
       "    <tr>\n",
       "      <th>0</th>\n",
       "      <td>19995</td>\n",
       "      <td>Avatar</td>\n",
       "      <td>2009-12-10</td>\n",
       "      <td>2009.0</td>\n",
       "    </tr>\n",
       "    <tr>\n",
       "      <th>1</th>\n",
       "      <td>285</td>\n",
       "      <td>Pirates of the Caribbean: At World's End</td>\n",
       "      <td>2007-05-19</td>\n",
       "      <td>2007.0</td>\n",
       "    </tr>\n",
       "    <tr>\n",
       "      <th>2</th>\n",
       "      <td>206647</td>\n",
       "      <td>Spectre</td>\n",
       "      <td>2015-10-26</td>\n",
       "      <td>2015.0</td>\n",
       "    </tr>\n",
       "    <tr>\n",
       "      <th>3</th>\n",
       "      <td>49026</td>\n",
       "      <td>The Dark Knight Rises</td>\n",
       "      <td>2012-07-16</td>\n",
       "      <td>2012.0</td>\n",
       "    </tr>\n",
       "    <tr>\n",
       "      <th>4</th>\n",
       "      <td>49529</td>\n",
       "      <td>John Carter</td>\n",
       "      <td>2012-03-07</td>\n",
       "      <td>2012.0</td>\n",
       "    </tr>\n",
       "    <tr>\n",
       "      <th>...</th>\n",
       "      <td>...</td>\n",
       "      <td>...</td>\n",
       "      <td>...</td>\n",
       "      <td>...</td>\n",
       "    </tr>\n",
       "    <tr>\n",
       "      <th>4798</th>\n",
       "      <td>9367</td>\n",
       "      <td>El Mariachi</td>\n",
       "      <td>1992-09-04</td>\n",
       "      <td>1992.0</td>\n",
       "    </tr>\n",
       "    <tr>\n",
       "      <th>4799</th>\n",
       "      <td>72766</td>\n",
       "      <td>Newlyweds</td>\n",
       "      <td>2011-12-26</td>\n",
       "      <td>2011.0</td>\n",
       "    </tr>\n",
       "    <tr>\n",
       "      <th>4800</th>\n",
       "      <td>231617</td>\n",
       "      <td>Signed, Sealed, Delivered</td>\n",
       "      <td>2013-10-13</td>\n",
       "      <td>2013.0</td>\n",
       "    </tr>\n",
       "    <tr>\n",
       "      <th>4801</th>\n",
       "      <td>126186</td>\n",
       "      <td>Shanghai Calling</td>\n",
       "      <td>2012-05-03</td>\n",
       "      <td>2012.0</td>\n",
       "    </tr>\n",
       "    <tr>\n",
       "      <th>4802</th>\n",
       "      <td>25975</td>\n",
       "      <td>My Date with Drew</td>\n",
       "      <td>2005-08-05</td>\n",
       "      <td>2005.0</td>\n",
       "    </tr>\n",
       "  </tbody>\n",
       "</table>\n",
       "<p>4803 rows × 4 columns</p>\n",
       "</div>"
      ],
      "text/plain": [
       "      movie_id                                     title release_date    year\n",
       "0        19995                                    Avatar   2009-12-10  2009.0\n",
       "1          285  Pirates of the Caribbean: At World's End   2007-05-19  2007.0\n",
       "2       206647                                   Spectre   2015-10-26  2015.0\n",
       "3        49026                     The Dark Knight Rises   2012-07-16  2012.0\n",
       "4        49529                               John Carter   2012-03-07  2012.0\n",
       "...        ...                                       ...          ...     ...\n",
       "4798      9367                               El Mariachi   1992-09-04  1992.0\n",
       "4799     72766                                 Newlyweds   2011-12-26  2011.0\n",
       "4800    231617                 Signed, Sealed, Delivered   2013-10-13  2013.0\n",
       "4801    126186                          Shanghai Calling   2012-05-03  2012.0\n",
       "4802     25975                         My Date with Drew   2005-08-05  2005.0\n",
       "\n",
       "[4803 rows x 4 columns]"
      ]
     },
     "execution_count": 10,
     "metadata": {},
     "output_type": "execute_result"
    }
   ],
   "source": [
    "google_movie"
   ]
  },
  {
   "cell_type": "code",
   "execution_count": 11,
   "id": "549f932a-7a76-49a1-bcfb-44f4405049ac",
   "metadata": {},
   "outputs": [
    {
     "name": "stdout",
     "output_type": "stream",
     "text": [
      "<class 'pandas.core.frame.DataFrame'>\n",
      "RangeIndex: 4803 entries, 0 to 4802\n",
      "Data columns (total 4 columns):\n",
      " #   Column        Non-Null Count  Dtype         \n",
      "---  ------        --------------  -----         \n",
      " 0   movie_id      4803 non-null   int64         \n",
      " 1   title         4803 non-null   object        \n",
      " 2   release_date  4802 non-null   datetime64[ns]\n",
      " 3   year          4802 non-null   float64       \n",
      "dtypes: datetime64[ns](1), float64(1), int64(1), object(1)\n",
      "memory usage: 150.2+ KB\n"
     ]
    }
   ],
   "source": [
    "google_movie.info()"
   ]
  },
  {
   "cell_type": "code",
   "execution_count": 12,
   "id": "43eece91-6018-4a6e-a32f-58f480dff742",
   "metadata": {},
   "outputs": [],
   "source": [
    "# make a title_url column from `title` column, in which we will replace space with `%20`  \n",
    "google_movie['title_url'] = google_movie['title'].str.replace(' ', '%20')\n"
   ]
  },
  {
   "cell_type": "code",
   "execution_count": 13,
   "id": "5e1aa00b-7a06-4ead-a6e8-995cdc9baa8b",
   "metadata": {},
   "outputs": [
    {
     "data": {
      "text/html": [
       "<div>\n",
       "<style scoped>\n",
       "    .dataframe tbody tr th:only-of-type {\n",
       "        vertical-align: middle;\n",
       "    }\n",
       "\n",
       "    .dataframe tbody tr th {\n",
       "        vertical-align: top;\n",
       "    }\n",
       "\n",
       "    .dataframe thead th {\n",
       "        text-align: right;\n",
       "    }\n",
       "</style>\n",
       "<table border=\"1\" class=\"dataframe\">\n",
       "  <thead>\n",
       "    <tr style=\"text-align: right;\">\n",
       "      <th></th>\n",
       "      <th>movie_id</th>\n",
       "      <th>title</th>\n",
       "      <th>release_date</th>\n",
       "      <th>year</th>\n",
       "      <th>title_url</th>\n",
       "    </tr>\n",
       "  </thead>\n",
       "  <tbody>\n",
       "    <tr>\n",
       "      <th>0</th>\n",
       "      <td>19995</td>\n",
       "      <td>Avatar</td>\n",
       "      <td>2009-12-10</td>\n",
       "      <td>2009.0</td>\n",
       "      <td>Avatar</td>\n",
       "    </tr>\n",
       "    <tr>\n",
       "      <th>1</th>\n",
       "      <td>285</td>\n",
       "      <td>Pirates of the Caribbean: At World's End</td>\n",
       "      <td>2007-05-19</td>\n",
       "      <td>2007.0</td>\n",
       "      <td>Pirates%20of%20the%20Caribbean:%20At%20World's...</td>\n",
       "    </tr>\n",
       "    <tr>\n",
       "      <th>2</th>\n",
       "      <td>206647</td>\n",
       "      <td>Spectre</td>\n",
       "      <td>2015-10-26</td>\n",
       "      <td>2015.0</td>\n",
       "      <td>Spectre</td>\n",
       "    </tr>\n",
       "    <tr>\n",
       "      <th>3</th>\n",
       "      <td>49026</td>\n",
       "      <td>The Dark Knight Rises</td>\n",
       "      <td>2012-07-16</td>\n",
       "      <td>2012.0</td>\n",
       "      <td>The%20Dark%20Knight%20Rises</td>\n",
       "    </tr>\n",
       "    <tr>\n",
       "      <th>4</th>\n",
       "      <td>49529</td>\n",
       "      <td>John Carter</td>\n",
       "      <td>2012-03-07</td>\n",
       "      <td>2012.0</td>\n",
       "      <td>John%20Carter</td>\n",
       "    </tr>\n",
       "    <tr>\n",
       "      <th>...</th>\n",
       "      <td>...</td>\n",
       "      <td>...</td>\n",
       "      <td>...</td>\n",
       "      <td>...</td>\n",
       "      <td>...</td>\n",
       "    </tr>\n",
       "    <tr>\n",
       "      <th>4798</th>\n",
       "      <td>9367</td>\n",
       "      <td>El Mariachi</td>\n",
       "      <td>1992-09-04</td>\n",
       "      <td>1992.0</td>\n",
       "      <td>El%20Mariachi</td>\n",
       "    </tr>\n",
       "    <tr>\n",
       "      <th>4799</th>\n",
       "      <td>72766</td>\n",
       "      <td>Newlyweds</td>\n",
       "      <td>2011-12-26</td>\n",
       "      <td>2011.0</td>\n",
       "      <td>Newlyweds</td>\n",
       "    </tr>\n",
       "    <tr>\n",
       "      <th>4800</th>\n",
       "      <td>231617</td>\n",
       "      <td>Signed, Sealed, Delivered</td>\n",
       "      <td>2013-10-13</td>\n",
       "      <td>2013.0</td>\n",
       "      <td>Signed,%20Sealed,%20Delivered</td>\n",
       "    </tr>\n",
       "    <tr>\n",
       "      <th>4801</th>\n",
       "      <td>126186</td>\n",
       "      <td>Shanghai Calling</td>\n",
       "      <td>2012-05-03</td>\n",
       "      <td>2012.0</td>\n",
       "      <td>Shanghai%20Calling</td>\n",
       "    </tr>\n",
       "    <tr>\n",
       "      <th>4802</th>\n",
       "      <td>25975</td>\n",
       "      <td>My Date with Drew</td>\n",
       "      <td>2005-08-05</td>\n",
       "      <td>2005.0</td>\n",
       "      <td>My%20Date%20with%20Drew</td>\n",
       "    </tr>\n",
       "  </tbody>\n",
       "</table>\n",
       "<p>4803 rows × 5 columns</p>\n",
       "</div>"
      ],
      "text/plain": [
       "      movie_id                                     title release_date    year  \\\n",
       "0        19995                                    Avatar   2009-12-10  2009.0   \n",
       "1          285  Pirates of the Caribbean: At World's End   2007-05-19  2007.0   \n",
       "2       206647                                   Spectre   2015-10-26  2015.0   \n",
       "3        49026                     The Dark Knight Rises   2012-07-16  2012.0   \n",
       "4        49529                               John Carter   2012-03-07  2012.0   \n",
       "...        ...                                       ...          ...     ...   \n",
       "4798      9367                               El Mariachi   1992-09-04  1992.0   \n",
       "4799     72766                                 Newlyweds   2011-12-26  2011.0   \n",
       "4800    231617                 Signed, Sealed, Delivered   2013-10-13  2013.0   \n",
       "4801    126186                          Shanghai Calling   2012-05-03  2012.0   \n",
       "4802     25975                         My Date with Drew   2005-08-05  2005.0   \n",
       "\n",
       "                                              title_url  \n",
       "0                                                Avatar  \n",
       "1     Pirates%20of%20the%20Caribbean:%20At%20World's...  \n",
       "2                                               Spectre  \n",
       "3                           The%20Dark%20Knight%20Rises  \n",
       "4                                         John%20Carter  \n",
       "...                                                 ...  \n",
       "4798                                      El%20Mariachi  \n",
       "4799                                          Newlyweds  \n",
       "4800                      Signed,%20Sealed,%20Delivered  \n",
       "4801                                 Shanghai%20Calling  \n",
       "4802                            My%20Date%20with%20Drew  \n",
       "\n",
       "[4803 rows x 5 columns]"
      ]
     },
     "execution_count": 13,
     "metadata": {},
     "output_type": "execute_result"
    }
   ],
   "source": [
    "google_movie"
   ]
  },
  {
   "cell_type": "code",
   "execution_count": 14,
   "id": "458550bb-ee4f-4349-8f8b-d65e1454903a",
   "metadata": {},
   "outputs": [
    {
     "data": {
      "text/plain": [
       "2009.0"
      ]
     },
     "execution_count": 14,
     "metadata": {},
     "output_type": "execute_result"
    }
   ],
   "source": [
    "google_movie.iloc[0]['year']"
   ]
  },
  {
   "cell_type": "code",
   "execution_count": 15,
   "id": "150ceeff-faf0-48b4-8430-4be4590ca900",
   "metadata": {},
   "outputs": [
    {
     "data": {
      "text/plain": [
       "False"
      ]
     },
     "execution_count": 15,
     "metadata": {},
     "output_type": "execute_result"
    }
   ],
   "source": [
    "np.isnan(google_movie.iloc[0]['year'])"
   ]
  },
  {
   "cell_type": "code",
   "execution_count": 16,
   "id": "f65c47d2-57c8-48af-9c5c-4a5c510700c1",
   "metadata": {},
   "outputs": [
    {
     "data": {
      "text/plain": [
       "Index(['movie_id', 'title', 'release_date', 'year', 'title_url'], dtype='object')"
      ]
     },
     "execution_count": 16,
     "metadata": {},
     "output_type": "execute_result"
    }
   ],
   "source": [
    "google_movie.iloc[0].index"
   ]
  },
  {
   "cell_type": "code",
   "execution_count": 17,
   "id": "9fd9770a-49ca-4c34-a6b3-604108bf7a45",
   "metadata": {},
   "outputs": [],
   "source": [
    "def create_google_url(row):\n",
    "    if 'year' in row.index and not pd.isnull(row['year']):\n",
    "        return f\"https://www.google.com/search?q={row['title_url']}+{row['year']}+film\"\n",
    "    else: \n",
    "        return f\"https://www.google.com/search?q={row['title_url']}+film\"\n",
    "\n",
    "    \n",
    "google_movie['google_url'] = google_movie.apply(create_google_url, axis=1)"
   ]
  },
  {
   "cell_type": "code",
   "execution_count": 22,
   "id": "a2694475-d587-4a61-a407-a5844bb7bf86",
   "metadata": {},
   "outputs": [
    {
     "data": {
      "text/html": [
       "<div>\n",
       "<style scoped>\n",
       "    .dataframe tbody tr th:only-of-type {\n",
       "        vertical-align: middle;\n",
       "    }\n",
       "\n",
       "    .dataframe tbody tr th {\n",
       "        vertical-align: top;\n",
       "    }\n",
       "\n",
       "    .dataframe thead th {\n",
       "        text-align: right;\n",
       "    }\n",
       "</style>\n",
       "<table border=\"1\" class=\"dataframe\">\n",
       "  <thead>\n",
       "    <tr style=\"text-align: right;\">\n",
       "      <th></th>\n",
       "      <th>movie_id</th>\n",
       "      <th>title</th>\n",
       "      <th>release_date</th>\n",
       "      <th>year</th>\n",
       "      <th>title_url</th>\n",
       "      <th>google_url</th>\n",
       "    </tr>\n",
       "  </thead>\n",
       "  <tbody>\n",
       "    <tr>\n",
       "      <th>0</th>\n",
       "      <td>19995</td>\n",
       "      <td>Avatar</td>\n",
       "      <td>2009-12-10</td>\n",
       "      <td>2009.0</td>\n",
       "      <td>Avatar</td>\n",
       "      <td>https://www.google.com/search?q=Avatar+2009.0+...</td>\n",
       "    </tr>\n",
       "    <tr>\n",
       "      <th>1</th>\n",
       "      <td>285</td>\n",
       "      <td>Pirates of the Caribbean: At World's End</td>\n",
       "      <td>2007-05-19</td>\n",
       "      <td>2007.0</td>\n",
       "      <td>Pirates%20of%20the%20Caribbean:%20At%20World's...</td>\n",
       "      <td>https://www.google.com/search?q=Pirates%20of%2...</td>\n",
       "    </tr>\n",
       "    <tr>\n",
       "      <th>2</th>\n",
       "      <td>206647</td>\n",
       "      <td>Spectre</td>\n",
       "      <td>2015-10-26</td>\n",
       "      <td>2015.0</td>\n",
       "      <td>Spectre</td>\n",
       "      <td>https://www.google.com/search?q=Spectre+2015.0...</td>\n",
       "    </tr>\n",
       "    <tr>\n",
       "      <th>3</th>\n",
       "      <td>49026</td>\n",
       "      <td>The Dark Knight Rises</td>\n",
       "      <td>2012-07-16</td>\n",
       "      <td>2012.0</td>\n",
       "      <td>The%20Dark%20Knight%20Rises</td>\n",
       "      <td>https://www.google.com/search?q=The%20Dark%20K...</td>\n",
       "    </tr>\n",
       "    <tr>\n",
       "      <th>4</th>\n",
       "      <td>49529</td>\n",
       "      <td>John Carter</td>\n",
       "      <td>2012-03-07</td>\n",
       "      <td>2012.0</td>\n",
       "      <td>John%20Carter</td>\n",
       "      <td>https://www.google.com/search?q=John%20Carter+...</td>\n",
       "    </tr>\n",
       "    <tr>\n",
       "      <th>...</th>\n",
       "      <td>...</td>\n",
       "      <td>...</td>\n",
       "      <td>...</td>\n",
       "      <td>...</td>\n",
       "      <td>...</td>\n",
       "      <td>...</td>\n",
       "    </tr>\n",
       "    <tr>\n",
       "      <th>4798</th>\n",
       "      <td>9367</td>\n",
       "      <td>El Mariachi</td>\n",
       "      <td>1992-09-04</td>\n",
       "      <td>1992.0</td>\n",
       "      <td>El%20Mariachi</td>\n",
       "      <td>https://www.google.com/search?q=El%20Mariachi+...</td>\n",
       "    </tr>\n",
       "    <tr>\n",
       "      <th>4799</th>\n",
       "      <td>72766</td>\n",
       "      <td>Newlyweds</td>\n",
       "      <td>2011-12-26</td>\n",
       "      <td>2011.0</td>\n",
       "      <td>Newlyweds</td>\n",
       "      <td>https://www.google.com/search?q=Newlyweds+2011...</td>\n",
       "    </tr>\n",
       "    <tr>\n",
       "      <th>4800</th>\n",
       "      <td>231617</td>\n",
       "      <td>Signed, Sealed, Delivered</td>\n",
       "      <td>2013-10-13</td>\n",
       "      <td>2013.0</td>\n",
       "      <td>Signed,%20Sealed,%20Delivered</td>\n",
       "      <td>https://www.google.com/search?q=Signed,%20Seal...</td>\n",
       "    </tr>\n",
       "    <tr>\n",
       "      <th>4801</th>\n",
       "      <td>126186</td>\n",
       "      <td>Shanghai Calling</td>\n",
       "      <td>2012-05-03</td>\n",
       "      <td>2012.0</td>\n",
       "      <td>Shanghai%20Calling</td>\n",
       "      <td>https://www.google.com/search?q=Shanghai%20Cal...</td>\n",
       "    </tr>\n",
       "    <tr>\n",
       "      <th>4802</th>\n",
       "      <td>25975</td>\n",
       "      <td>My Date with Drew</td>\n",
       "      <td>2005-08-05</td>\n",
       "      <td>2005.0</td>\n",
       "      <td>My%20Date%20with%20Drew</td>\n",
       "      <td>https://www.google.com/search?q=My%20Date%20wi...</td>\n",
       "    </tr>\n",
       "  </tbody>\n",
       "</table>\n",
       "<p>4803 rows × 6 columns</p>\n",
       "</div>"
      ],
      "text/plain": [
       "      movie_id                                     title release_date    year  \\\n",
       "0        19995                                    Avatar   2009-12-10  2009.0   \n",
       "1          285  Pirates of the Caribbean: At World's End   2007-05-19  2007.0   \n",
       "2       206647                                   Spectre   2015-10-26  2015.0   \n",
       "3        49026                     The Dark Knight Rises   2012-07-16  2012.0   \n",
       "4        49529                               John Carter   2012-03-07  2012.0   \n",
       "...        ...                                       ...          ...     ...   \n",
       "4798      9367                               El Mariachi   1992-09-04  1992.0   \n",
       "4799     72766                                 Newlyweds   2011-12-26  2011.0   \n",
       "4800    231617                 Signed, Sealed, Delivered   2013-10-13  2013.0   \n",
       "4801    126186                          Shanghai Calling   2012-05-03  2012.0   \n",
       "4802     25975                         My Date with Drew   2005-08-05  2005.0   \n",
       "\n",
       "                                              title_url  \\\n",
       "0                                                Avatar   \n",
       "1     Pirates%20of%20the%20Caribbean:%20At%20World's...   \n",
       "2                                               Spectre   \n",
       "3                           The%20Dark%20Knight%20Rises   \n",
       "4                                         John%20Carter   \n",
       "...                                                 ...   \n",
       "4798                                      El%20Mariachi   \n",
       "4799                                          Newlyweds   \n",
       "4800                      Signed,%20Sealed,%20Delivered   \n",
       "4801                                 Shanghai%20Calling   \n",
       "4802                            My%20Date%20with%20Drew   \n",
       "\n",
       "                                             google_url  \n",
       "0     https://www.google.com/search?q=Avatar+2009.0+...  \n",
       "1     https://www.google.com/search?q=Pirates%20of%2...  \n",
       "2     https://www.google.com/search?q=Spectre+2015.0...  \n",
       "3     https://www.google.com/search?q=The%20Dark%20K...  \n",
       "4     https://www.google.com/search?q=John%20Carter+...  \n",
       "...                                                 ...  \n",
       "4798  https://www.google.com/search?q=El%20Mariachi+...  \n",
       "4799  https://www.google.com/search?q=Newlyweds+2011...  \n",
       "4800  https://www.google.com/search?q=Signed,%20Seal...  \n",
       "4801  https://www.google.com/search?q=Shanghai%20Cal...  \n",
       "4802  https://www.google.com/search?q=My%20Date%20wi...  \n",
       "\n",
       "[4803 rows x 6 columns]"
      ]
     },
     "execution_count": 22,
     "metadata": {},
     "output_type": "execute_result"
    }
   ],
   "source": [
    "google_movie"
   ]
  },
  {
   "cell_type": "code",
   "execution_count": 23,
   "id": "de702cc1-ae19-4ed1-ad8d-1ffa45e69404",
   "metadata": {},
   "outputs": [
    {
     "data": {
      "text/plain": [
       "'https://www.google.com/search?q=John%20Carter+2012.0+film'"
      ]
     },
     "execution_count": 23,
     "metadata": {},
     "output_type": "execute_result"
    }
   ],
   "source": [
    "google_movie.iloc[4]['google_url']"
   ]
  },
  {
   "cell_type": "code",
   "execution_count": 27,
   "id": "fc50f027-6435-4b27-83a4-fdca6dff8e1c",
   "metadata": {},
   "outputs": [
    {
     "data": {
      "text/plain": [
       "0    https://www.google.com/search?q=Avatar+2009.0+...\n",
       "Name: google_url, dtype: object"
      ]
     },
     "execution_count": 27,
     "metadata": {},
     "output_type": "execute_result"
    }
   ],
   "source": [
    "google_movie[google_movie['title'] == 'Avatar']['google_url']"
   ]
  },
  {
   "cell_type": "code",
   "execution_count": 33,
   "id": "cff5cc73-3964-42f1-93e1-61faac9f84f4",
   "metadata": {},
   "outputs": [
    {
     "data": {
      "text/plain": [
       "'https://www.google.com/search?q=Avatar+2009.0+film'"
      ]
     },
     "execution_count": 33,
     "metadata": {},
     "output_type": "execute_result"
    }
   ],
   "source": [
    "google_movie[google_movie['title'] == 'Avatar']['google_url'].values[0]"
   ]
  },
  {
   "cell_type": "code",
   "execution_count": null,
   "id": "a4a4a459-439b-4075-924c-6beb9f78f115",
   "metadata": {},
   "outputs": [
    {
     "data": {
      "text/plain": [
       "['https://www.google.com/search?q=Avatar+2009.0+film']"
      ]
     },
     "execution_count": 29,
     "metadata": {},
     "output_type": "execute_result"
    }
   ],
   "source": [
    "list(google_movie[google_movie['title'] == 'Avatar']['google_url'])"
   ]
  },
  {
   "cell_type": "code",
   "execution_count": null,
   "id": "d4593611-86cf-4e62-a8d5-7ae2d6043c81",
   "metadata": {},
   "outputs": [],
   "source": []
  },
  {
   "cell_type": "code",
   "execution_count": 25,
   "id": "77438323-4209-484d-b126-221f57b6b2f2",
   "metadata": {},
   "outputs": [],
   "source": [
    "google_movie.to_csv('../artifacts/google_url_df.csv',index=False)"
   ]
  },
  {
   "cell_type": "code",
   "execution_count": null,
   "id": "58c8ebbc-2806-47a5-8cde-612b7ced241e",
   "metadata": {},
   "outputs": [],
   "source": []
  }
 ],
 "metadata": {
  "kernelspec": {
   "display_name": "Python 3 (ipykernel)",
   "language": "python",
   "name": "python3"
  },
  "language_info": {
   "codemirror_mode": {
    "name": "ipython",
    "version": 3
   },
   "file_extension": ".py",
   "mimetype": "text/x-python",
   "name": "python",
   "nbconvert_exporter": "python",
   "pygments_lexer": "ipython3",
   "version": "3.9.16"
  }
 },
 "nbformat": 4,
 "nbformat_minor": 5
}
